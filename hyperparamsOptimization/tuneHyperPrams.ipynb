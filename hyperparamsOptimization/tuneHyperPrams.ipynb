{
 "cells": [
  {
   "cell_type": "markdown",
   "metadata": {},
   "source": [
    "#  Hyperparameter Tuning\n",
    " \n",
    "The creation, engineering and preprocessing of  statistical features, the selection of the suitable ones and finally the parametrization of the algorithm are\n",
    "the main domains, where a user typically adjusts a machine learning system in order to make it succesful.  \n",
    "It therefore makes sense to search for optimal values automatically. This is often referred to as \"hyperparameter tuning\". \n",
    "\n",
    "The standard approaches that have been around for a long time are a brute force approach doing grid search over the parameter space.\n",
    "This has been reported to be inferior to a random search strategy in the paper by Bergstra et al.. \n",
    "\n",
    "Often more sophisticated approaches arrive at good parameter setting more quickly.\n",
    "Among these are Bayesian Optimization teqniques, or Kanter et. al.'s  Gaussian Copula Process (GCP), or Tree of Parzen Estimators as in hyperopt\n",
    "\n",
    "\n",
    "There exist various packages for this optimization. Examples:"
   ]
  },
  {
   "cell_type": "markdown",
   "metadata": {},
   "source": [
    "\n",
    "| Name          | Author(s)        |       |\n",
    "| ---------------------------------------------------------- |:-------------:| -----:|\n",
    "| [Spearmint](https://github.com/JasperSnoek/spearmint)      | JasperSnoek   |   Python    |\n",
    "| [hyperopt](http://hyperopt.github.io/hyperopt/)             | James Bergstra et. al. | Python |\n",
    "| [hyperopt-sklearn](https://github.com/hyperopt/hyperopt-sklearn) | James Bergstra et. al| Python |\n",
    "| [REMBO](https://github.com/ziyuw/rembo) | Ziyu Wang | Matlab |\n",
    "| [MOE](https://github.com/Yelp/MOE) | Eric Liu | C++/Python |\n",
    "| [SMAC](http://www.cs.ubc.ca/labs/beta/Projects/SMAC/) | Hutter et al., 2011 | Java |\n",
    "\n",
    "\n",
    "\n"
   ]
  },
  {
   "cell_type": "markdown",
   "metadata": {},
   "source": [
    "## Package Selection Criteria\n",
    "\n",
    "The aim here is to generate a simple worked example.\n",
    "\n",
    "\n",
    "### Selection Criteria\n",
    "* Native python in order to be able to study code demontrating the math quickly\n",
    "* Package allows to specify custom objective functions\n",
    "* API is transparently exposed to the user and allows to study code using a debugger\n",
    "* Facilitate porting to different infrastructure\n",
    "\n",
    "Notes\n",
    "* Spearmint : Lots of code for spawning child processes involved. This makes it hard to use \n",
    "* hyperopt-sklearn: Taylored to scikit-learn and its off-the-shelf classifiers and regressors. Does not allow customizable objective functions\n",
    "* REMBO: esoteric algorithm, currently Python is preferred. Still a good source for studying Bayes Optimization\n",
    "* MOE is interesting and very suitable, but as they state in their README, *flow is currently broken* \n",
    "* Hyperopt: Their Tree of Parzen Estomators algorithm has some drawbacks with parameter correlations in high dimensional spaces, see [here](http://fastml.com/optimizing-hyperparams-with-hyperopt/)\n",
    "\n",
    "Despite these problems, I will use hyperopt on a toy example that mimics *Deep Feature Synthesis* using a Random Forest Estimator.  \n"
   ]
  },
  {
   "cell_type": "code",
   "execution_count": 1,
   "metadata": {
    "collapsed": false
   },
   "outputs": [
    {
     "name": "stdout",
     "output_type": "stream",
     "text": [
      "Creating dataset...\n",
      "Load the data using pandas\n",
      "Eliminate missing values\n"
     ]
    }
   ],
   "source": [
    "# data preparation\n",
    "\n",
    "import math\n",
    "import csv\n",
    "import os\n",
    "import sys\n",
    "\n",
    "from time import time\n",
    "from hyperopt import hp, fmin, tpe\n",
    "from sklearn.metrics import mean_squared_error as MSE\n",
    "from sklearn.ensemble import RandomForestClassifier\n",
    "\n",
    "from munge import * # utils for reading data \n",
    "\n",
    "def RMSE( y, p ):\n",
    "\treturn math.sqrt( MSE( y, p ))\n",
    "\n",
    "train,test,myid = getdataXGBoostStyle(dropMedhist1=False,BMI_Age=True,SumMedicalKeywords=True)\n",
    "output_file = 'hyperopt_log.csv'\n",
    "\n"
   ]
  },
  {
   "cell_type": "markdown",
   "metadata": {},
   "source": [
    "## Parameter Space  and objective function\n"
   ]
  },
  {
   "cell_type": "code",
   "execution_count": 2,
   "metadata": {
    "collapsed": false
   },
   "outputs": [],
   "source": [
    "# Parameter Space\n",
    "# Parameters copied from Kanter paper, restricting to RandomForest Parameters\n",
    "space = (\n",
    "    #hp.choice( \"criterion\", [\"gini\",\"entropy\"]),\n",
    "    hp.uniform(\"n_estimators\", 50,500), #\n",
    "    hp.uniform(\"max_depth\", 1,20), #  The maximum depth of the decision trees\n",
    "    hp.uniform(\"max_features\", 1, 100 ) # float if percentage\n",
    "    #hp.uniform( 'alpha', 0, 1 )\n",
    ")"
   ]
  },
  {
   "cell_type": "code",
   "execution_count": 3,
   "metadata": {
    "collapsed": false
   },
   "outputs": [
    {
     "name": "stdout",
     "output_type": "stream",
     "text": [
      "done\n"
     ]
    }
   ],
   "source": [
    "def run_wrapper( params ):\n",
    "    \"\"\"\n",
    "    packaging numerical code in run_test\n",
    "    http://fastml.com/optimizing-hyperparams-with-hyperopt/    \n",
    "    \"\"\"\n",
    "    global run_counter\n",
    "    global o_f\n",
    "    \n",
    "    run_counter += 1\n",
    "    print (\"Iteration number: \", run_counter)\n",
    "    \n",
    "    s = time()\n",
    "    rmse = run_test( params )\n",
    "    \n",
    "    print ()\n",
    "    print (\"RMSE:\", rmse)\n",
    "    print (\"elapsed: {}s \\n\".format( int( round( time() - s ))))\n",
    "\n",
    "    writer.writerow( [ rmse ] + list( params ))\n",
    "    o_f.flush()\n",
    "    return rmse\n",
    "\t\n",
    "def run_test( params ):\n",
    "    n_estimators, max_depth, max_features = params\n",
    "    n_estimators = int( n_estimators )\n",
    "    max_depth = int( max_depth )\n",
    "    max_features = int( max_features )\n",
    "    \n",
    "    print (\"max_features:\", max_features)\n",
    "    print (\"n_estimators:\", n_estimators)\n",
    "    print (\"max_depth:\", max_depth)\n",
    "    rf = RandomForestClassifier(n_jobs=3,max_features=max_features, n_estimators=n_estimators,max_depth=max_depth)\n",
    "    rf.fit( train.drop(['Response'], axis=1), train['Response']) \n",
    "    test_preds  = rf.predict( test.drop(['Response'], axis=1) )\n",
    "    train_preds  = rf.predict( train.drop(['Response'], axis=1) )\n",
    "      \n",
    "    # ordiinal regression specific tuning\n",
    "    # train_preds = np.clip(train_preds, -0.99, 8.99)\n",
    "    # test_preds = np.clip(test_preds, -0.99, 8.99)\n",
    "\n",
    "    # TODO: maybe maximized kappa instead of minimize RMSE\n",
    "    rmse = RMSE( test['Response'], test_preds )\n",
    "    return rmse\n",
    "\n",
    "print (\"done\")"
   ]
  },
  {
   "cell_type": "markdown",
   "metadata": {},
   "source": [
    "## Run Simulation"
   ]
  },
  {
   "cell_type": "code",
   "execution_count": 4,
   "metadata": {
    "collapsed": false
   },
   "outputs": [
    {
     "name": "stdout",
     "output_type": "stream",
     "text": [
      "Iteration number:  1\n",
      "max_features: 3\n",
      "n_estimators: 441\n",
      "max_depth: 18\n",
      "\n",
      "RMSE: 7.980611466086317\n",
      "elapsed: 15s \n",
      "\n",
      "Iteration number:  2\n",
      "max_features: 78\n",
      "n_estimators: 323\n",
      "max_depth: 15\n",
      "\n",
      "RMSE: 7.7169310310722175\n",
      "elapsed: 78s \n",
      "\n",
      "Iteration number:  3\n",
      "max_features: 38\n",
      "n_estimators: 168\n",
      "max_depth: 11\n",
      "\n",
      "RMSE: 7.762213636347659\n",
      "elapsed: 17s \n",
      "\n",
      "Iteration number:  4\n",
      "max_features: 36\n",
      "n_estimators: 164\n",
      "max_depth: 6\n",
      "\n",
      "RMSE: 7.867319294162178\n",
      "elapsed: 11s \n",
      "\n",
      "Iteration number:  5\n",
      "max_features: 10\n",
      "n_estimators: 386\n",
      "max_depth: 19\n",
      "\n",
      "RMSE: 7.712202492846341\n",
      "elapsed: 26s \n",
      "\n",
      "Iteration number:  6\n",
      "max_features: 27\n",
      "n_estimators: 307\n",
      "max_depth: 18\n",
      "\n",
      "RMSE: 7.70098932145853\n",
      "elapsed: 41s \n",
      "\n",
      "Iteration number:  7\n",
      "max_features: 49\n",
      "n_estimators: 168\n",
      "max_depth: 15\n",
      "\n",
      "RMSE: 7.722855648500038\n",
      "elapsed: 34s \n",
      "\n",
      "Iteration number:  8\n",
      "max_features: 28\n",
      "n_estimators: 335\n",
      "max_depth: 5\n",
      "\n",
      "RMSE: 7.965083173580433\n",
      "elapsed: 14s \n",
      "\n",
      "Iteration number:  9\n",
      "max_features: 85\n",
      "n_estimators: 59\n",
      "max_depth: 10\n",
      "\n",
      "RMSE: 7.761972464805364\n",
      "elapsed: 13s \n",
      "\n",
      "Iteration number:  10\n",
      "max_features: 85\n",
      "n_estimators: 432\n",
      "max_depth: 7\n",
      "\n",
      "RMSE: 7.803697710119438\n",
      "elapsed: 71s \n",
      "\n",
      "Seconds passed: 320\n",
      "{'max_depth': 18.382226815908371, 'n_estimators': 307.55727858381084, 'max_features': 27.413459301254324}\n"
     ]
    }
   ],
   "source": [
    "\n",
    "\n",
    "max_evals = 10\n",
    "run_counter = 0\n",
    "\n",
    "headers = [ 'rmse', \"n_estimators\",\"max_depth\", 'max_features']\n",
    "\n",
    "\n",
    "#o_f = open( output_file, 'wb' )\n",
    "\n",
    "if sys.version_info >= (3,0,0):\n",
    "    o_f = open(output_file, 'w', newline='')\n",
    "else:\n",
    "    o_f = open(output_file, 'wb')\n",
    "\n",
    "writer = csv.writer( o_f )\n",
    "writer.writerow( headers )\n",
    "\n",
    "start_time = time()\n",
    "\n",
    "#the objective function to minimize\n",
    "#the space over which to search\n",
    "#the database in which to store all the point evaluations of the search\n",
    "#the search algorithm to use\n",
    "\n",
    "best = fmin( run_wrapper, space, algo = tpe.suggest, max_evals = max_evals )\n",
    "end_time = time()\n",
    "\n",
    "print (\"Seconds passed:\", int( round( end_time - start_time )))\n",
    "print (best)"
   ]
  },
  {
   "cell_type": "markdown",
   "metadata": {},
   "source": [
    "## Plot RMSE\n",
    "As mentioned before, hyperopt uses a more sophisticated search strategy. \n",
    "So we are not expecting a decreasing trend in the rmse measure over iterations! "
   ]
  },
  {
   "cell_type": "code",
   "execution_count": 20,
   "metadata": {
    "collapsed": false
   },
   "outputs": [
    {
     "name": "stdout",
     "output_type": "stream",
     "text": [
      "Index(['rmse', 'n_estimators', 'max_depth', 'max_features'], dtype='object')\n"
     ]
    },
    {
     "data": {
      "text/plain": [
       "<matplotlib.axes._subplots.AxesSubplot at 0x7f9772918dd8>"
      ]
     },
     "execution_count": 20,
     "metadata": {},
     "output_type": "execute_result"
    },
    {
     "data": {
      "image/png": "[encoded data removed]",
      "text/plain": [
       "<matplotlib.figure.Figure at 0x7f97732375f8>"
      ]
     },
     "metadata": {},
     "output_type": "display_data"
    }
   ],
   "source": [
    "# plot RMSE results\n",
    "import pandas as pd\n",
    "from pandas.core.frame import DataFrame\n",
    "import matplotlib.pyplot as plt\n",
    "%matplotlib inline\n",
    "\n",
    "data=pd.read_csv('hyperopt_log.csv',sep=',',na_values=[\" \"])\n",
    "print(data.columns)\n",
    "data['rmse'].plot(kind='line')"
   ]
  },
  {
   "cell_type": "markdown",
   "metadata": {},
   "source": [
    "# Summary and\n",
    "\n",
    "## Comments on Kanter et. al\n",
    "\n",
    "* Die Vorteile des Kantor Ansatzes mit Gaussian Copula process wird nicht theoretisch belegt oder empirisch ausgearbeitet. Die Vorteile werden nicht klar, und für ein end to end system kann im Prinzip jeder Ansatz hergenommen werden. Also der von beispielsweise hyperopt oder GP oder gar brute force wie random search. \n",
    "\n",
    "\n",
    "\n",
    "### Minor Comments\n",
    "* According to Snoek et al, the approach depends on the type of *function*. They describe the Bayesian optimization process for continuous functions:\n",
    "\n",
    "\"For continuous functions, Bayesian optimization typically works by assuming the unknown function was sampled from a Gaussian process and maintains a posterior distribution for this function as observations are made or, in our case, as the results of running learning algorithm experiments with different hyperparameters are observed. To pick the hyperparameters of the next experiment, one can optimize the ()...\"\n",
    "\n",
    "* Currently the Deep Synthesis Machine *refines itself to continuous*, especially  int-type data. This contrasts with other packages like hyperopt, where the package has functon for recommending the right *algo*.\n",
    "\n",
    "\n"
   ]
  },
  {
   "cell_type": "code",
   "execution_count": null,
   "metadata": {
    "collapsed": true
   },
   "outputs": [],
   "source": []
  }
 ],
 "metadata": {
  "kernelspec": {
   "display_name": "Python 3",
   "language": "python",
   "name": "python3"
  },
  "language_info": {
   "codemirror_mode": {
    "name": "ipython",
    "version": 3
   },
   "file_extension": ".py",
   "mimetype": "text/x-python",
   "name": "python",
   "nbconvert_exporter": "python",
   "pygments_lexer": "ipython3",
   "version": "3.4.3"
  }
 },
 "nbformat": 4,
 "nbformat_minor": 0
}
